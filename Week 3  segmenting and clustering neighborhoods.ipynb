{
    "nbformat_minor": 1, 
    "cells": [
        {
            "execution_count": 1, 
            "cell_type": "code", 
            "metadata": {}, 
            "outputs": [], 
            "source": "# importing necessary libraries\nimport pandas as pd\nimport numpy as np\nfrom bs4 import BeautifulSoup\nimport requests"
        }, 
        {
            "execution_count": 2, 
            "cell_type": "code", 
            "metadata": {}, 
            "outputs": [], 
            "source": "# getting data from internet\nwikipedia_link='https://en.wikipedia.org/wiki/List_of_postal_codes_of_Canada:_M'\nraw_wikipedia_page= requests.get(wikipedia_link).text\n\n# using beautiful soup to parse the HTML/XML codes.\nsoup = BeautifulSoup(raw_wikipedia_page,'xml')\n#print(soup.prettify())"
        }, 
        {
            "source": "## Processing 1- getting raw table", 
            "cell_type": "markdown", 
            "metadata": {}
        }, 
        {
            "execution_count": 3, 
            "cell_type": "code", 
            "metadata": {}, 
            "outputs": [], 
            "source": "# extracting the raw table inside that webpage\ntable = soup.find('table')\n\nPostcode      = []\nBorough       = []\nNeighbourhood = []\n\n# print(table)\n\n# extracting a clean form of the table\nfor tr_cell in table.find_all('tr'):\n    \n    counter = 1\n    Postcode_var      = -1\n    Borough_var       = -1\n    Neighbourhood_var = -1\n    \n    for td_cell in tr_cell.find_all('td'):\n        if counter == 1: \n            Postcode_var = td_cell.text\n        if counter == 2: \n            Borough_var = td_cell.text\n            tag_a_Borough = td_cell.find('a')\n            \n        if counter == 3: \n            Neighbourhood_var = str(td_cell.text).strip()\n            tag_a_Neighbourhood = td_cell.find('a')\n            \n        counter +=1\n        \n    if (Postcode_var == 'Not assigned' or Borough_var == 'Not assigned' or Neighbourhood_var == 'Not assigned'): \n        continue\n    try:\n        if ((tag_a_Borough is None) or (tag_a_Neighbourhood is None)):\n            continue\n    except:\n        pass\n    if(Postcode_var == -1 or Borough_var == -1 or Neighbourhood_var == -1):\n        continue\n        \n             \n    Postcode.append(Postcode_var)\n    Borough.append(Borough_var)\n    Neighbourhood.append(Neighbourhood_var)"
        }, 
        {
            "source": "## Processing 2 : joining postal codes wit more than 1 neighbour", 
            "cell_type": "markdown", 
            "metadata": {}
        }, 
        {
            "execution_count": 4, 
            "cell_type": "code", 
            "metadata": {}, 
            "outputs": [
                {
                    "output_type": "stream", 
                    "name": "stdout", 
                    "text": "num of unique Postal codes: 77\n"
                }
            ], 
            "source": "\nunique_p = set(Postcode)\nprint('num of unique Postal codes:', len(unique_p))\nPostcode_u      = []\nBorough_u       = []\nNeighbourhood_u = []\n\n\nfor postcode_unique_element in unique_p:\n    p_var = ''; b_var = ''; n_var = ''; \n    for postcode_idx, postcode_element in enumerate(Postcode):\n        if postcode_unique_element == postcode_element:\n            p_var = postcode_element;\n            b_var = Borough[postcode_idx]\n            if n_var == '': \n                n_var = Neighbourhood[postcode_idx]\n            else:\n                n_var = n_var + ', ' + Neighbourhood[postcode_idx]\n    Postcode_u.append(p_var)\n    Borough_u.append(b_var)\n    Neighbourhood_u.append(n_var)"
        }, 
        {
            "source": "## create a correct Dataframe", 
            "cell_type": "markdown", 
            "metadata": {}
        }, 
        {
            "execution_count": 7, 
            "cell_type": "code", 
            "metadata": {}, 
            "outputs": [
                {
                    "execution_count": 7, 
                    "metadata": {}, 
                    "data": {
                        "text/html": "<div>\n<style scoped>\n    .dataframe tbody tr th:only-of-type {\n        vertical-align: middle;\n    }\n\n    .dataframe tbody tr th {\n        vertical-align: top;\n    }\n\n    .dataframe thead th {\n        text-align: right;\n    }\n</style>\n<table border=\"1\" class=\"dataframe\">\n  <thead>\n    <tr style=\"text-align: right;\">\n      <th></th>\n      <th>Borough</th>\n      <th>Neighbourhood</th>\n      <th>Postcode</th>\n    </tr>\n  </thead>\n  <tbody>\n    <tr>\n      <th>0</th>\n      <td>North York</td>\n      <td>Bayview Village</td>\n      <td>M2K</td>\n    </tr>\n    <tr>\n      <th>1</th>\n      <td>Scarborough</td>\n      <td>Ionview, Kennedy Park</td>\n      <td>M1K</td>\n    </tr>\n    <tr>\n      <th>2</th>\n      <td>Central Toronto</td>\n      <td>Deer Park, Rathnelly, South Hill</td>\n      <td>M4V</td>\n    </tr>\n    <tr>\n      <th>3</th>\n      <td>Scarborough</td>\n      <td>Highland Creek, Rouge Hill, Port Union</td>\n      <td>M1C</td>\n    </tr>\n    <tr>\n      <th>4</th>\n      <td>North York</td>\n      <td>CFB Toronto</td>\n      <td>M3K</td>\n    </tr>\n    <tr>\n      <th>5</th>\n      <td>East York</td>\n      <td>Leaside</td>\n      <td>M4G</td>\n    </tr>\n    <tr>\n      <th>6</th>\n      <td>West Toronto</td>\n      <td>Little Portugal, Trinity</td>\n      <td>M6J</td>\n    </tr>\n    <tr>\n      <th>7</th>\n      <td>East Toronto</td>\n      <td>The Beaches</td>\n      <td>M4E</td>\n    </tr>\n    <tr>\n      <th>8</th>\n      <td>Downtown Toronto</td>\n      <td>Design Exchange, Toronto Dominion Centre</td>\n      <td>M5K</td>\n    </tr>\n    <tr>\n      <th>9</th>\n      <td>North York</td>\n      <td>Downsview West</td>\n      <td>M3L</td>\n    </tr>\n    <tr>\n      <th>10</th>\n      <td>Downtown Toronto</td>\n      <td>Chinatown, Grange Park, Kensington Market</td>\n      <td>M5T</td>\n    </tr>\n    <tr>\n      <th>11</th>\n      <td>Scarborough</td>\n      <td>Agincourt North, Milliken</td>\n      <td>M1V</td>\n    </tr>\n    <tr>\n      <th>12</th>\n      <td>Etobicoke</td>\n      <td>The Kingsway</td>\n      <td>M8X</td>\n    </tr>\n    <tr>\n      <th>13</th>\n      <td>Scarborough</td>\n      <td>Dorset Park, Scarborough Town Centre, Wexford ...</td>\n      <td>M1P</td>\n    </tr>\n  </tbody>\n</table>\n</div>", 
                        "text/plain": "             Borough                                      Neighbourhood  \\\n0         North York                                    Bayview Village   \n1        Scarborough                              Ionview, Kennedy Park   \n2    Central Toronto                   Deer Park, Rathnelly, South Hill   \n3        Scarborough             Highland Creek, Rouge Hill, Port Union   \n4         North York                                        CFB Toronto   \n5          East York                                            Leaside   \n6       West Toronto                           Little Portugal, Trinity   \n7       East Toronto                                        The Beaches   \n8   Downtown Toronto           Design Exchange, Toronto Dominion Centre   \n9         North York                                     Downsview West   \n10  Downtown Toronto          Chinatown, Grange Park, Kensington Market   \n11       Scarborough                          Agincourt North, Milliken   \n12         Etobicoke                                       The Kingsway   \n13       Scarborough  Dorset Park, Scarborough Town Centre, Wexford ...   \n\n   Postcode  \n0       M2K  \n1       M1K  \n2       M4V  \n3       M1C  \n4       M3K  \n5       M4G  \n6       M6J  \n7       M4E  \n8       M5K  \n9       M3L  \n10      M5T  \n11      M1V  \n12      M8X  \n13      M1P  "
                    }, 
                    "output_type": "execute_result"
                }
            ], 
            "source": "toronto_dict = {'Borough':Borough_u,'Neighbourhood':Neighbourhood_u,'Postcode':Postcode_u}\ndf_toronto = pd.DataFrame.from_dict(toronto_dict)\ndf_toronto.to_csv('toronto_part1.csv')\ndf_toronto.head(14)"
        }, 
        {
            "execution_count": 8, 
            "cell_type": "code", 
            "metadata": {}, 
            "outputs": [
                {
                    "execution_count": 8, 
                    "metadata": {}, 
                    "data": {
                        "text/plain": "(77, 3)"
                    }, 
                    "output_type": "execute_result"
                }
            ], 
            "source": "df_toronto.shape"
        }, 
        {
            "source": "**NB: the number of unique postal codes is 77", 
            "cell_type": "markdown", 
            "metadata": {}
        }, 
        {
            "execution_count": null, 
            "cell_type": "code", 
            "metadata": {}, 
            "outputs": [], 
            "source": ""
        }, 
        {
            "execution_count": null, 
            "cell_type": "code", 
            "metadata": {}, 
            "outputs": [], 
            "source": ""
        }
    ], 
    "metadata": {
        "kernelspec": {
            "display_name": "Python 3.5", 
            "name": "python3", 
            "language": "python"
        }, 
        "language_info": {
            "mimetype": "text/x-python", 
            "nbconvert_exporter": "python", 
            "version": "3.5.5", 
            "name": "python", 
            "file_extension": ".py", 
            "pygments_lexer": "ipython3", 
            "codemirror_mode": {
                "version": 3, 
                "name": "ipython"
            }
        }
    }, 
    "nbformat": 4
}