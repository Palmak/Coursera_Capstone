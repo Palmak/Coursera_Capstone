{
    "nbformat_minor": 1, 
    "cells": [
        {
            "source": "\n# A recommendation engine for residential property location\n\n## Cover page\n\n## Part 1 - Problem description\n**A property developer in one of the boroughs of Toronto (Scarborough) wants to know if this is the best area to construct residential properties. Based on her research, the contractor has specifications in terms of what her customers want. The research imply that 95% of potential clients have preferences and are most likely to purchase the property if these preferences are met.** <br> \n\n**Most buyers prefer a location which is closest to schools, libraries, church, hospital/clinic, transport, shops/stores and definately far from pubs and clubs.So these ae the most crucial aspects of the location that the contractor needs to identify before developing her property here** <br>\n\n## Part 2 - Data needed\n**1- The project requires location information about that specific borough and the neighborhoods in that borough. We will need the cooordinates i.e. the latitude and longitude numbers of that borough. We supppose that it is \"Scarborough\" in Toronto. the developper has specified that this is the location of interest. we will use postal codes that fall into that borough (Scarborough) and these should give us the right information.** <br>\n\n**2-we will use Foursquare geo location data capabilities to get the location data we are looking for. these data will provide all the information we need, from basic to detailed information. For instance for a venue of interest in one of the neighborhoods; As basic information, we can obtain its precise latitude and longitude and also its distance from the center of the neighborhood. But we are aslo looking for advanced information such as the category of that venue and whether this venue is a popular/ well rated one in its category.** <br>\n\n**Some Notes about \"Foursquare\":_[ https://foursquare.com/]** <br>\n\n\n## Methodology\n\n## Part 1 - Collecting  Neighborhoods in \"Scarborough\"\n**We will obtain Postal Codes of different regions inside Scarborough to find the list of neighborhoods. We will obtain our information from https://en.wikipedia.org/wiki/List_of_postal_codes_of_Canada:_M and then process the table inside this site. Images from dataframes and also from maps will be provided in the presentation. Here we only present our strategy and how we got the mission accomplished.** <br>\n\n## Part 2: Connecting to Foursquare and Retrieving Locational Data for Each Venue in Every Neighborhood\n**we will use a 1000km radius to select the venues around the neighborhood in \"Scarborough\". After finding the list of neighborhoods, we then connect to the Foursquare API to gather information about venues inside each and every neighborhood. The distance is the input we give to Foursquare and it calculates it for us.** <br>\n\n## Part 3: Processing the Retrieved Data and Creating a DataFrome for All the Venues inside the Scarborough\n**Aftre collecting the data, we will processs it to get out features of interest. Our main feature is the category of that venue. After this stage, the column \"Venue's Category\" wil be One-hot encoded and different venues will have different feature-columns. After One-hot encoding we will integrate all venues to their respective groups based on similarities e.g gym and soccer field would be classified as sporting facilities, shops and stores under shps/stores category. This assumption is made for simplicity and due to not having a very detailed dataset about different venues.**<br>\n\n## Part 4: Applying one of Machine Learning Techniques (K-Means Clustering)\n**Here we cluster neighborhoods via K-means clustering method. We think that 5 clusters is enough and can cover the complexity of our problem. After clustering we will update our dataset and create a column representing the group for each neighborhood.**<br>\n\n## Decision Making and Reporting Results\n**Now, we focus on the centers of clusters and compare them for their Totals per category. The group which its center has the highest \"Total Sum\" will be our best recommendation to the property developer. {Note: the Total of unwanted venues i.e. pub/club group decreases the likelihood of a neighborhood being chosen hence it will be deducted from the total}.**\n\n## Results and Conclusion:\n**Based on this analysis, the best recommended neighborhood will be:** <br>\n{'Neighborhood': 'Clairlea, Golden Mile, Oakridge',\n 'Neighborhood Latitude': 43.711111700000004,\n 'Neighborhood Longitude': -79.284577200000001,\n 'Postal Code': 'M1L'}\n\n", 
            "cell_type": "markdown", 
            "metadata": {
                "collapsed": true
            }
        }
    ], 
    "metadata": {
        "kernelspec": {
            "display_name": "Python 3.5", 
            "name": "python3", 
            "language": "python"
        }, 
        "language_info": {
            "mimetype": "text/x-python", 
            "nbconvert_exporter": "python", 
            "version": "3.5.5", 
            "name": "python", 
            "file_extension": ".py", 
            "pygments_lexer": "ipython3", 
            "codemirror_mode": {
                "version": 3, 
                "name": "ipython"
            }
        }
    }, 
    "nbformat": 4
}