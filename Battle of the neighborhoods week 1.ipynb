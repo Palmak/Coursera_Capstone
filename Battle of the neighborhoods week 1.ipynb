{
    "nbformat_minor": 1, 
    "cells": [
        {
            "source": "# A recommender system for residential property location", 
            "cell_type": "markdown", 
            "metadata": {
                "collapsed": true
            }
        }, 
        {
            "source": "## Part 1 - Problem description", 
            "cell_type": "markdown", 
            "metadata": {}
        }, 
        {
            "source": "**A property developer in one of the boroughs of Toronto (Scarborough) wants to know if this is the best area to construct residential properties. Based on her research, the contractor has specifications in terms of what her customers want. The research imply that 95% of potential clients have preferences and are most likely to purchase the property if these preferences are met.** <br>\n\n**Most buyers prefer a location which is closest to schools, libraries, church, hospital/clinic and definately far from pubs and clubs.So these ae the most crucial aspects of the location that the contractor needs to identify before developing her property here**\n", 
            "cell_type": "markdown", 
            "metadata": {}
        }, 
        {
            "source": "## Part 2 - Data needed", 
            "cell_type": "markdown", 
            "metadata": {}
        }, 
        {
            "source": "**1- The project requires location information about that specific borough and the neighborhoods in that borough. We will need the cooordinates i.e. the latitude and longitude numbers of that borough. We supppose that it is \"Scarborough\" in Toronto. the developper has specified that this is the location of interest. we will use postal codes that fall into that borough (Scarborough) and these should give us the right information.**<br>\n\n**2-we will use Foursquare geo location data capabilities to get the location data we are looking for. these data will provide all the information we need, from basic to detailed information. For instance there is a venue in one of the neighborhoods. As basic information, we can obtain its precise latitude and longitude and also its distance from the center of the neighborhood. But we are looking for advanced information such as the category of that venue and whether this venue is a popular one in its category.** \n\n**Some Notes about \"Foursquare\":_[ https://foursquare.com/]**\n\n", 
            "cell_type": "markdown", 
            "metadata": {}
        }, 
        {
            "execution_count": null, 
            "cell_type": "code", 
            "metadata": {}, 
            "outputs": [], 
            "source": ""
        }
    ], 
    "metadata": {
        "kernelspec": {
            "display_name": "Python 3.5", 
            "name": "python3", 
            "language": "python"
        }, 
        "language_info": {
            "mimetype": "text/x-python", 
            "nbconvert_exporter": "python", 
            "version": "3.5.5", 
            "name": "python", 
            "file_extension": ".py", 
            "pygments_lexer": "ipython3", 
            "codemirror_mode": {
                "version": 3, 
                "name": "ipython"
            }
        }
    }, 
    "nbformat": 4
}