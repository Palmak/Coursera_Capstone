{
    "nbformat_minor": 1, 
    "cells": [
        {
            "source": "**import libraries**", 
            "cell_type": "markdown", 
            "metadata": {
                "collapsed": true
            }
        }, 
        {
            "execution_count": 1, 
            "cell_type": "code", 
            "metadata": {}, 
            "outputs": [], 
            "source": "import pandas as pd\nimport numpy as np\n"
        }, 
        {
            "source": "**create  neighbourhoods dataframe**", 
            "cell_type": "markdown", 
            "metadata": {}
        }, 
        {
            "execution_count": 2, 
            "cell_type": "code", 
            "metadata": {}, 
            "outputs": [
                {
                    "execution_count": 2, 
                    "metadata": {}, 
                    "data": {
                        "text/html": "<div>\n<style scoped>\n    .dataframe tbody tr th:only-of-type {\n        vertical-align: middle;\n    }\n\n    .dataframe tbody tr th {\n        vertical-align: top;\n    }\n\n    .dataframe thead th {\n        text-align: right;\n    }\n</style>\n<table border=\"1\" class=\"dataframe\">\n  <thead>\n    <tr style=\"text-align: right;\">\n      <th></th>\n      <th>Borough</th>\n      <th>Neighbourhood</th>\n      <th>Postcode</th>\n    </tr>\n  </thead>\n  <tbody>\n    <tr>\n      <th>0</th>\n      <td>Scarborough</td>\n      <td>Dorset Park, Scarborough Town Centre, Wexford ...</td>\n      <td>M1P</td>\n    </tr>\n    <tr>\n      <th>1</th>\n      <td>Etobicoke</td>\n      <td>Humber Bay, Mimico NE, Old Mill South, The Que...</td>\n      <td>M8Y</td>\n    </tr>\n    <tr>\n      <th>2</th>\n      <td>East York</td>\n      <td>Leaside</td>\n      <td>M4G</td>\n    </tr>\n    <tr>\n      <th>3</th>\n      <td>Downtown Toronto</td>\n      <td>Design Exchange, Toronto Dominion Centre</td>\n      <td>M5K</td>\n    </tr>\n    <tr>\n      <th>4</th>\n      <td>Scarborough</td>\n      <td>Cliffcrest, Cliffside</td>\n      <td>M1M</td>\n    </tr>\n    <tr>\n      <th>5</th>\n      <td>East York</td>\n      <td>East Toronto</td>\n      <td>M4J</td>\n    </tr>\n    <tr>\n      <th>6</th>\n      <td>Scarborough</td>\n      <td>Rouge, Malvern</td>\n      <td>M1B</td>\n    </tr>\n    <tr>\n      <th>7</th>\n      <td>North York</td>\n      <td>Emery, Humberlea</td>\n      <td>M9M</td>\n    </tr>\n    <tr>\n      <th>8</th>\n      <td>Central Toronto</td>\n      <td>Deer Park, Rathnelly, South Hill</td>\n      <td>M4V</td>\n    </tr>\n    <tr>\n      <th>9</th>\n      <td>West Toronto</td>\n      <td>Parkdale, Roncesvalles</td>\n      <td>M6R</td>\n    </tr>\n  </tbody>\n</table>\n</div>", 
                        "text/plain": "            Borough                                      Neighbourhood  \\\n0       Scarborough  Dorset Park, Scarborough Town Centre, Wexford ...   \n1         Etobicoke  Humber Bay, Mimico NE, Old Mill South, The Que...   \n2         East York                                            Leaside   \n3  Downtown Toronto           Design Exchange, Toronto Dominion Centre   \n4       Scarborough                              Cliffcrest, Cliffside   \n5         East York                                       East Toronto   \n6       Scarborough                                     Rouge, Malvern   \n7        North York                                   Emery, Humberlea   \n8   Central Toronto                   Deer Park, Rathnelly, South Hill   \n9      West Toronto                             Parkdale, Roncesvalles   \n\n  Postcode  \n0      M1P  \n1      M8Y  \n2      M4G  \n3      M5K  \n4      M1M  \n5      M4J  \n6      M1B  \n7      M9M  \n8      M4V  \n9      M6R  "
                    }, 
                    "output_type": "execute_result"
                }
            ], 
            "source": "df_neighborhoods = pd.read_csv(r'C:\\Users\\w5080797\\Documents\\Personal\\IBM_qualification\\df_toronto.csv',index_col=[0])\ndf_neighborhoods.head(10)"
        }, 
        {
            "source": "## Part 2 - extract latitude and longitude", 
            "cell_type": "markdown", 
            "metadata": {}
        }, 
        {
            "execution_count": 3, 
            "cell_type": "code", 
            "metadata": {}, 
            "outputs": [], 
            "source": "\ndata =  pd.read_csv('http://cocl.us/Geospatial_data')"
        }, 
        {
            "execution_count": 4, 
            "cell_type": "code", 
            "metadata": {}, 
            "outputs": [
                {
                    "execution_count": 4, 
                    "metadata": {}, 
                    "data": {
                        "text/html": "<div>\n<style scoped>\n    .dataframe tbody tr th:only-of-type {\n        vertical-align: middle;\n    }\n\n    .dataframe tbody tr th {\n        vertical-align: top;\n    }\n\n    .dataframe thead th {\n        text-align: right;\n    }\n</style>\n<table border=\"1\" class=\"dataframe\">\n  <thead>\n    <tr style=\"text-align: right;\">\n      <th></th>\n      <th>Postal Code</th>\n      <th>Latitude</th>\n      <th>Longitude</th>\n    </tr>\n  </thead>\n  <tbody>\n    <tr>\n      <th>0</th>\n      <td>M1B</td>\n      <td>43.806686</td>\n      <td>-79.194353</td>\n    </tr>\n    <tr>\n      <th>1</th>\n      <td>M1C</td>\n      <td>43.784535</td>\n      <td>-79.160497</td>\n    </tr>\n    <tr>\n      <th>2</th>\n      <td>M1E</td>\n      <td>43.763573</td>\n      <td>-79.188711</td>\n    </tr>\n    <tr>\n      <th>3</th>\n      <td>M1G</td>\n      <td>43.770992</td>\n      <td>-79.216917</td>\n    </tr>\n    <tr>\n      <th>4</th>\n      <td>M1H</td>\n      <td>43.773136</td>\n      <td>-79.239476</td>\n    </tr>\n  </tbody>\n</table>\n</div>", 
                        "text/plain": "  Postal Code   Latitude  Longitude\n0         M1B  43.806686 -79.194353\n1         M1C  43.784535 -79.160497\n2         M1E  43.763573 -79.188711\n3         M1G  43.770992 -79.216917\n4         M1H  43.773136 -79.239476"
                    }, 
                    "output_type": "execute_result"
                }
            ], 
            "source": "data.head()"
        }, 
        {
            "source": "## Rename post code of neighbourhoods table", 
            "cell_type": "markdown", 
            "metadata": {}
        }, 
        {
            "execution_count": 5, 
            "cell_type": "code", 
            "metadata": {}, 
            "outputs": [
                {
                    "execution_count": 5, 
                    "metadata": {}, 
                    "data": {
                        "text/html": "<div>\n<style scoped>\n    .dataframe tbody tr th:only-of-type {\n        vertical-align: middle;\n    }\n\n    .dataframe tbody tr th {\n        vertical-align: top;\n    }\n\n    .dataframe thead th {\n        text-align: right;\n    }\n</style>\n<table border=\"1\" class=\"dataframe\">\n  <thead>\n    <tr style=\"text-align: right;\">\n      <th></th>\n      <th>Borough</th>\n      <th>Neighbourhood</th>\n      <th>Postal Code</th>\n    </tr>\n  </thead>\n  <tbody>\n    <tr>\n      <th>0</th>\n      <td>Scarborough</td>\n      <td>Dorset Park, Scarborough Town Centre, Wexford ...</td>\n      <td>M1P</td>\n    </tr>\n    <tr>\n      <th>1</th>\n      <td>Etobicoke</td>\n      <td>Humber Bay, Mimico NE, Old Mill South, The Que...</td>\n      <td>M8Y</td>\n    </tr>\n    <tr>\n      <th>2</th>\n      <td>East York</td>\n      <td>Leaside</td>\n      <td>M4G</td>\n    </tr>\n    <tr>\n      <th>3</th>\n      <td>Downtown Toronto</td>\n      <td>Design Exchange, Toronto Dominion Centre</td>\n      <td>M5K</td>\n    </tr>\n    <tr>\n      <th>4</th>\n      <td>Scarborough</td>\n      <td>Cliffcrest, Cliffside</td>\n      <td>M1M</td>\n    </tr>\n  </tbody>\n</table>\n</div>", 
                        "text/plain": "            Borough                                      Neighbourhood  \\\n0       Scarborough  Dorset Park, Scarborough Town Centre, Wexford ...   \n1         Etobicoke  Humber Bay, Mimico NE, Old Mill South, The Que...   \n2         East York                                            Leaside   \n3  Downtown Toronto           Design Exchange, Toronto Dominion Centre   \n4       Scarborough                              Cliffcrest, Cliffside   \n\n  Postal Code  \n0         M1P  \n1         M8Y  \n2         M4G  \n3         M5K  \n4         M1M  "
                    }, 
                    "output_type": "execute_result"
                }
            ], 
            "source": "df_neighborhoods.rename(columns={'Postcode': 'Postal Code'}, inplace=True)\ndf_neighborhoods.head()"
        }, 
        {
            "source": "## merge the two tables", 
            "cell_type": "markdown", 
            "metadata": {}
        }, 
        {
            "execution_count": 6, 
            "cell_type": "code", 
            "metadata": {}, 
            "outputs": [
                {
                    "execution_count": 6, 
                    "metadata": {}, 
                    "data": {
                        "text/html": "<div>\n<style scoped>\n    .dataframe tbody tr th:only-of-type {\n        vertical-align: middle;\n    }\n\n    .dataframe tbody tr th {\n        vertical-align: top;\n    }\n\n    .dataframe thead th {\n        text-align: right;\n    }\n</style>\n<table border=\"1\" class=\"dataframe\">\n  <thead>\n    <tr style=\"text-align: right;\">\n      <th></th>\n      <th>Borough</th>\n      <th>Neighbourhood</th>\n      <th>Postal Code</th>\n      <th>Latitude</th>\n      <th>Longitude</th>\n    </tr>\n  </thead>\n  <tbody>\n    <tr>\n      <th>0</th>\n      <td>Scarborough</td>\n      <td>Dorset Park, Scarborough Town Centre, Wexford ...</td>\n      <td>M1P</td>\n      <td>43.757410</td>\n      <td>-79.273304</td>\n    </tr>\n    <tr>\n      <th>1</th>\n      <td>Etobicoke</td>\n      <td>Humber Bay, Mimico NE, Old Mill South, The Que...</td>\n      <td>M8Y</td>\n      <td>43.636258</td>\n      <td>-79.498509</td>\n    </tr>\n    <tr>\n      <th>2</th>\n      <td>East York</td>\n      <td>Leaside</td>\n      <td>M4G</td>\n      <td>43.709060</td>\n      <td>-79.363452</td>\n    </tr>\n    <tr>\n      <th>3</th>\n      <td>Downtown Toronto</td>\n      <td>Design Exchange, Toronto Dominion Centre</td>\n      <td>M5K</td>\n      <td>43.647177</td>\n      <td>-79.381576</td>\n    </tr>\n    <tr>\n      <th>4</th>\n      <td>Scarborough</td>\n      <td>Cliffcrest, Cliffside</td>\n      <td>M1M</td>\n      <td>43.716316</td>\n      <td>-79.239476</td>\n    </tr>\n    <tr>\n      <th>5</th>\n      <td>East York</td>\n      <td>East Toronto</td>\n      <td>M4J</td>\n      <td>43.685347</td>\n      <td>-79.338106</td>\n    </tr>\n    <tr>\n      <th>6</th>\n      <td>Scarborough</td>\n      <td>Rouge, Malvern</td>\n      <td>M1B</td>\n      <td>43.806686</td>\n      <td>-79.194353</td>\n    </tr>\n    <tr>\n      <th>7</th>\n      <td>North York</td>\n      <td>Emery, Humberlea</td>\n      <td>M9M</td>\n      <td>43.724766</td>\n      <td>-79.532242</td>\n    </tr>\n    <tr>\n      <th>8</th>\n      <td>Central Toronto</td>\n      <td>Deer Park, Rathnelly, South Hill</td>\n      <td>M4V</td>\n      <td>43.686412</td>\n      <td>-79.400049</td>\n    </tr>\n    <tr>\n      <th>9</th>\n      <td>West Toronto</td>\n      <td>Parkdale, Roncesvalles</td>\n      <td>M6R</td>\n      <td>43.648960</td>\n      <td>-79.456325</td>\n    </tr>\n  </tbody>\n</table>\n</div>", 
                        "text/plain": "            Borough                                      Neighbourhood  \\\n0       Scarborough  Dorset Park, Scarborough Town Centre, Wexford ...   \n1         Etobicoke  Humber Bay, Mimico NE, Old Mill South, The Que...   \n2         East York                                            Leaside   \n3  Downtown Toronto           Design Exchange, Toronto Dominion Centre   \n4       Scarborough                              Cliffcrest, Cliffside   \n5         East York                                       East Toronto   \n6       Scarborough                                     Rouge, Malvern   \n7        North York                                   Emery, Humberlea   \n8   Central Toronto                   Deer Park, Rathnelly, South Hill   \n9      West Toronto                             Parkdale, Roncesvalles   \n\n  Postal Code   Latitude  Longitude  \n0         M1P  43.757410 -79.273304  \n1         M8Y  43.636258 -79.498509  \n2         M4G  43.709060 -79.363452  \n3         M5K  43.647177 -79.381576  \n4         M1M  43.716316 -79.239476  \n5         M4J  43.685347 -79.338106  \n6         M1B  43.806686 -79.194353  \n7         M9M  43.724766 -79.532242  \n8         M4V  43.686412 -79.400049  \n9         M6R  43.648960 -79.456325  "
                    }, 
                    "output_type": "execute_result"
                }
            ], 
            "source": "df_neighborhoods_coordinates = pd.merge(df_neighborhoods, data, on='Postal Code')\ndf_neighborhoods_coordinates.head(10)"
        }, 
        {
            "source": "## export to csv", 
            "cell_type": "markdown", 
            "metadata": {}
        }, 
        {
            "execution_count": 7, 
            "cell_type": "code", 
            "metadata": {}, 
            "outputs": [], 
            "source": "df_neighborhoods_coordinates.to_csv(r'C:\\Users\\w5080797\\Documents\\Personal\\IBM_qualification\\df_neighborhoods_coordinates.csv')"
        }, 
        {
            "execution_count": null, 
            "cell_type": "code", 
            "metadata": {}, 
            "outputs": [], 
            "source": ""
        }
    ], 
    "metadata": {
        "kernelspec": {
            "display_name": "Python 3.5", 
            "name": "python3", 
            "language": "python"
        }, 
        "language_info": {
            "mimetype": "text/x-python", 
            "nbconvert_exporter": "python", 
            "version": "3.5.5", 
            "name": "python", 
            "file_extension": ".py", 
            "pygments_lexer": "ipython3", 
            "codemirror_mode": {
                "version": 3, 
                "name": "ipython"
            }
        }
    }, 
    "nbformat": 4
}