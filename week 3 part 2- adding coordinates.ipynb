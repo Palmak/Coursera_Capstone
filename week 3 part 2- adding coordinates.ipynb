{
    "nbformat_minor": 1, 
    "cells": [
        {
            "source": "**import libraries**", 
            "cell_type": "markdown", 
            "metadata": {
                "collapsed": true
            }
        }, 
        {
            "execution_count": 17, 
            "cell_type": "code", 
            "metadata": {}, 
            "outputs": [], 
            "source": "import pandas as pd\nimport numpy as np\n"
        }, 
        {
            "source": "**create  neighbourhoods dataframe**", 
            "cell_type": "markdown", 
            "metadata": {}
        }, 
        {
            "execution_count": 18, 
            "cell_type": "code", 
            "metadata": {}, 
            "outputs": [
                {
                    "execution_count": 18, 
                    "metadata": {}, 
                    "data": {
                        "text/html": "<div>\n<style scoped>\n    .dataframe tbody tr th:only-of-type {\n        vertical-align: middle;\n    }\n\n    .dataframe tbody tr th {\n        vertical-align: top;\n    }\n\n    .dataframe thead th {\n        text-align: right;\n    }\n</style>\n<table border=\"1\" class=\"dataframe\">\n  <thead>\n    <tr style=\"text-align: right;\">\n      <th></th>\n      <th>Borough</th>\n      <th>Neighbourhood</th>\n      <th>Postcode</th>\n    </tr>\n  </thead>\n  <tbody>\n    <tr>\n      <th>0</th>\n      <td>Scarborough</td>\n      <td>Rouge, Malvern</td>\n      <td>M1B</td>\n    </tr>\n    <tr>\n      <th>1</th>\n      <td>West Toronto</td>\n      <td>Little Portugal, Trinity</td>\n      <td>M6J</td>\n    </tr>\n    <tr>\n      <th>2</th>\n      <td>Scarborough</td>\n      <td>Upper Rouge</td>\n      <td>M1X</td>\n    </tr>\n    <tr>\n      <th>3</th>\n      <td>Scarborough</td>\n      <td>Dorset Park, Scarborough Town Centre, Wexford ...</td>\n      <td>M1P</td>\n    </tr>\n    <tr>\n      <th>4</th>\n      <td>North York</td>\n      <td>Bedford Park</td>\n      <td>M5M</td>\n    </tr>\n    <tr>\n      <th>5</th>\n      <td>North York</td>\n      <td>Parkwoods</td>\n      <td>M3A</td>\n    </tr>\n    <tr>\n      <th>6</th>\n      <td>Etobicoke</td>\n      <td>Humber Bay, Mimico NE, Old Mill South, The Que...</td>\n      <td>M8Y</td>\n    </tr>\n    <tr>\n      <th>7</th>\n      <td>West Toronto</td>\n      <td>Parkdale, Roncesvalles</td>\n      <td>M6R</td>\n    </tr>\n    <tr>\n      <th>8</th>\n      <td>Etobicoke</td>\n      <td>The Kingsway</td>\n      <td>M8X</td>\n    </tr>\n    <tr>\n      <th>9</th>\n      <td>Scarborough</td>\n      <td>Woburn</td>\n      <td>M1G</td>\n    </tr>\n  </tbody>\n</table>\n</div>", 
                        "text/plain": "        Borough                                      Neighbourhood Postcode\n0   Scarborough                                     Rouge, Malvern      M1B\n1  West Toronto                           Little Portugal, Trinity      M6J\n2   Scarborough                                        Upper Rouge      M1X\n3   Scarborough  Dorset Park, Scarborough Town Centre, Wexford ...      M1P\n4    North York                                       Bedford Park      M5M\n5    North York                                          Parkwoods      M3A\n6     Etobicoke  Humber Bay, Mimico NE, Old Mill South, The Que...      M8Y\n7  West Toronto                             Parkdale, Roncesvalles      M6R\n8     Etobicoke                                       The Kingsway      M8X\n9   Scarborough                                             Woburn      M1G"
                    }, 
                    "output_type": "execute_result"
                }
            ], 
            "source": "df_neighborhoods = pd.read_csv(r'C:\\Users\\w5080797\\Documents\\Personal\\IBM_qualification\\df_toronto.csv',index_col=[0])\ndf_neighborhoods.head(10)"
        }, 
        {
            "source": "## Part 2 - extract latitude and longitude", 
            "cell_type": "markdown", 
            "metadata": {}
        }, 
        {
            "execution_count": 10, 
            "cell_type": "code", 
            "metadata": {}, 
            "outputs": [], 
            "source": "data =  pd.read_csv('http://cocl.us/Geospatial_data')"
        }, 
        {
            "execution_count": 19, 
            "cell_type": "code", 
            "metadata": {}, 
            "outputs": [
                {
                    "execution_count": 19, 
                    "metadata": {}, 
                    "data": {
                        "text/html": "<div>\n<style scoped>\n    .dataframe tbody tr th:only-of-type {\n        vertical-align: middle;\n    }\n\n    .dataframe tbody tr th {\n        vertical-align: top;\n    }\n\n    .dataframe thead th {\n        text-align: right;\n    }\n</style>\n<table border=\"1\" class=\"dataframe\">\n  <thead>\n    <tr style=\"text-align: right;\">\n      <th></th>\n      <th>Postal Code</th>\n      <th>Latitude</th>\n      <th>Longitude</th>\n    </tr>\n  </thead>\n  <tbody>\n    <tr>\n      <th>0</th>\n      <td>M1B</td>\n      <td>43.806686</td>\n      <td>-79.194353</td>\n    </tr>\n    <tr>\n      <th>1</th>\n      <td>M1C</td>\n      <td>43.784535</td>\n      <td>-79.160497</td>\n    </tr>\n    <tr>\n      <th>2</th>\n      <td>M1E</td>\n      <td>43.763573</td>\n      <td>-79.188711</td>\n    </tr>\n    <tr>\n      <th>3</th>\n      <td>M1G</td>\n      <td>43.770992</td>\n      <td>-79.216917</td>\n    </tr>\n    <tr>\n      <th>4</th>\n      <td>M1H</td>\n      <td>43.773136</td>\n      <td>-79.239476</td>\n    </tr>\n  </tbody>\n</table>\n</div>", 
                        "text/plain": "  Postal Code   Latitude  Longitude\n0         M1B  43.806686 -79.194353\n1         M1C  43.784535 -79.160497\n2         M1E  43.763573 -79.188711\n3         M1G  43.770992 -79.216917\n4         M1H  43.773136 -79.239476"
                    }, 
                    "output_type": "execute_result"
                }
            ], 
            "source": "data.head()"
        }, 
        {
            "source": "## Rename post code of neighbourhoods table", 
            "cell_type": "markdown", 
            "metadata": {}
        }, 
        {
            "execution_count": 22, 
            "cell_type": "code", 
            "metadata": {}, 
            "outputs": [
                {
                    "execution_count": 22, 
                    "metadata": {}, 
                    "data": {
                        "text/html": "<div>\n<style scoped>\n    .dataframe tbody tr th:only-of-type {\n        vertical-align: middle;\n    }\n\n    .dataframe tbody tr th {\n        vertical-align: top;\n    }\n\n    .dataframe thead th {\n        text-align: right;\n    }\n</style>\n<table border=\"1\" class=\"dataframe\">\n  <thead>\n    <tr style=\"text-align: right;\">\n      <th></th>\n      <th>Borough</th>\n      <th>Neighbourhood</th>\n      <th>Postal Code</th>\n    </tr>\n  </thead>\n  <tbody>\n    <tr>\n      <th>0</th>\n      <td>Scarborough</td>\n      <td>Rouge, Malvern</td>\n      <td>M1B</td>\n    </tr>\n    <tr>\n      <th>1</th>\n      <td>West Toronto</td>\n      <td>Little Portugal, Trinity</td>\n      <td>M6J</td>\n    </tr>\n    <tr>\n      <th>2</th>\n      <td>Scarborough</td>\n      <td>Upper Rouge</td>\n      <td>M1X</td>\n    </tr>\n    <tr>\n      <th>3</th>\n      <td>Scarborough</td>\n      <td>Dorset Park, Scarborough Town Centre, Wexford ...</td>\n      <td>M1P</td>\n    </tr>\n    <tr>\n      <th>4</th>\n      <td>North York</td>\n      <td>Bedford Park</td>\n      <td>M5M</td>\n    </tr>\n  </tbody>\n</table>\n</div>", 
                        "text/plain": "        Borough                                      Neighbourhood Postal Code\n0   Scarborough                                     Rouge, Malvern         M1B\n1  West Toronto                           Little Portugal, Trinity         M6J\n2   Scarborough                                        Upper Rouge         M1X\n3   Scarborough  Dorset Park, Scarborough Town Centre, Wexford ...         M1P\n4    North York                                       Bedford Park         M5M"
                    }, 
                    "output_type": "execute_result"
                }
            ], 
            "source": "df_neighborhoods.rename(columns={'Postcode': 'Postal Code'}, inplace=True)\ndf_neighborhoods.head()"
        }, 
        {
            "source": "## merge the two tables", 
            "cell_type": "markdown", 
            "metadata": {}
        }, 
        {
            "execution_count": 23, 
            "cell_type": "code", 
            "metadata": {}, 
            "outputs": [
                {
                    "execution_count": 23, 
                    "metadata": {}, 
                    "data": {
                        "text/html": "<div>\n<style scoped>\n    .dataframe tbody tr th:only-of-type {\n        vertical-align: middle;\n    }\n\n    .dataframe tbody tr th {\n        vertical-align: top;\n    }\n\n    .dataframe thead th {\n        text-align: right;\n    }\n</style>\n<table border=\"1\" class=\"dataframe\">\n  <thead>\n    <tr style=\"text-align: right;\">\n      <th></th>\n      <th>Borough</th>\n      <th>Neighbourhood</th>\n      <th>Postal Code</th>\n      <th>Latitude</th>\n      <th>Longitude</th>\n    </tr>\n  </thead>\n  <tbody>\n    <tr>\n      <th>0</th>\n      <td>Scarborough</td>\n      <td>Rouge, Malvern</td>\n      <td>M1B</td>\n      <td>43.806686</td>\n      <td>-79.194353</td>\n    </tr>\n    <tr>\n      <th>1</th>\n      <td>West Toronto</td>\n      <td>Little Portugal, Trinity</td>\n      <td>M6J</td>\n      <td>43.647927</td>\n      <td>-79.419750</td>\n    </tr>\n    <tr>\n      <th>2</th>\n      <td>Scarborough</td>\n      <td>Upper Rouge</td>\n      <td>M1X</td>\n      <td>43.836125</td>\n      <td>-79.205636</td>\n    </tr>\n    <tr>\n      <th>3</th>\n      <td>Scarborough</td>\n      <td>Dorset Park, Scarborough Town Centre, Wexford ...</td>\n      <td>M1P</td>\n      <td>43.757410</td>\n      <td>-79.273304</td>\n    </tr>\n    <tr>\n      <th>4</th>\n      <td>North York</td>\n      <td>Bedford Park</td>\n      <td>M5M</td>\n      <td>43.733283</td>\n      <td>-79.419750</td>\n    </tr>\n    <tr>\n      <th>5</th>\n      <td>North York</td>\n      <td>Parkwoods</td>\n      <td>M3A</td>\n      <td>43.753259</td>\n      <td>-79.329656</td>\n    </tr>\n    <tr>\n      <th>6</th>\n      <td>Etobicoke</td>\n      <td>Humber Bay, Mimico NE, Old Mill South, The Que...</td>\n      <td>M8Y</td>\n      <td>43.636258</td>\n      <td>-79.498509</td>\n    </tr>\n    <tr>\n      <th>7</th>\n      <td>West Toronto</td>\n      <td>Parkdale, Roncesvalles</td>\n      <td>M6R</td>\n      <td>43.648960</td>\n      <td>-79.456325</td>\n    </tr>\n    <tr>\n      <th>8</th>\n      <td>Etobicoke</td>\n      <td>The Kingsway</td>\n      <td>M8X</td>\n      <td>43.653654</td>\n      <td>-79.506944</td>\n    </tr>\n    <tr>\n      <th>9</th>\n      <td>Scarborough</td>\n      <td>Woburn</td>\n      <td>M1G</td>\n      <td>43.770992</td>\n      <td>-79.216917</td>\n    </tr>\n  </tbody>\n</table>\n</div>", 
                        "text/plain": "        Borough                                      Neighbourhood  \\\n0   Scarborough                                     Rouge, Malvern   \n1  West Toronto                           Little Portugal, Trinity   \n2   Scarborough                                        Upper Rouge   \n3   Scarborough  Dorset Park, Scarborough Town Centre, Wexford ...   \n4    North York                                       Bedford Park   \n5    North York                                          Parkwoods   \n6     Etobicoke  Humber Bay, Mimico NE, Old Mill South, The Que...   \n7  West Toronto                             Parkdale, Roncesvalles   \n8     Etobicoke                                       The Kingsway   \n9   Scarborough                                             Woburn   \n\n  Postal Code   Latitude  Longitude  \n0         M1B  43.806686 -79.194353  \n1         M6J  43.647927 -79.419750  \n2         M1X  43.836125 -79.205636  \n3         M1P  43.757410 -79.273304  \n4         M5M  43.733283 -79.419750  \n5         M3A  43.753259 -79.329656  \n6         M8Y  43.636258 -79.498509  \n7         M6R  43.648960 -79.456325  \n8         M8X  43.653654 -79.506944  \n9         M1G  43.770992 -79.216917  "
                    }, 
                    "output_type": "execute_result"
                }
            ], 
            "source": "df_neighborhoods_coordinates = pd.merge(df_neighborhoods, data, on='Postal Code')\ndf_neighborhoods_coordinates.head(10)"
        }, 
        {
            "source": "## export to csv", 
            "cell_type": "markdown", 
            "metadata": {}
        }, 
        {
            "execution_count": null, 
            "cell_type": "code", 
            "metadata": {}, 
            "outputs": [], 
            "source": ""
        }, 
        {
            "execution_count": null, 
            "cell_type": "code", 
            "metadata": {}, 
            "outputs": [], 
            "source": ""
        }
    ], 
    "metadata": {
        "kernelspec": {
            "display_name": "Python 3.5", 
            "name": "python3", 
            "language": "python"
        }, 
        "language_info": {
            "mimetype": "text/x-python", 
            "nbconvert_exporter": "python", 
            "version": "3.5.5", 
            "name": "python", 
            "file_extension": ".py", 
            "pygments_lexer": "ipython3", 
            "codemirror_mode": {
                "version": 3, 
                "name": "ipython"
            }
        }
    }, 
    "nbformat": 4
}